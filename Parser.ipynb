{
 "cells": [
  {
   "cell_type": "markdown",
   "metadata": {
    "collapsed": true
   },
   "source": [
    "TODO:\n",
    "1. tokenize (from old project)\n",
    "2. lemmatize? (see if can use eliana's code)\n",
    "3. remove stopwords\n",
    "4. feature-generator - for cell (\"speaker interval\"), for full protocol, and for list of protocols\n",
    "5. look for word embedding\n",
    "6. understand deep LDA from reference (possibly different embedding)"
   ]
  },
  {
   "cell_type": "code",
   "execution_count": 1,
   "metadata": {
    "collapsed": true
   },
   "outputs": [],
   "source": [
    "%reload_ext autoreload\n",
    "%autoreload 2\n",
    "%matplotlib inline"
   ]
  },
  {
   "cell_type": "code",
   "execution_count": null,
   "metadata": {
    "collapsed": true
   },
   "outputs": [],
   "source": [
    "import pandas as pd\n",
    "import numpy as np\n",
    "import matplotlib as mpl\n",
    "import matplotlib.pyplot as plt\n",
    "import seaborn as sns\n",
    "import re\n",
    "import pickle\n",
    "from pathlib import Path\n",
    "from time import time\n",
    "from datetime import datetime\n",
    "from tqdm import tqdm, tnrange, tqdm_notebook\n",
    "from pprint import pprint\n",
    "from warnings import warn\n",
    "from datetime import datetime\n",
    "import itertools\n",
    "from collections import Counter, OrderedDict\n",
    "from bidi import algorithm as bidi\n",
    "from hebrew_stopwords import hebrew_stopwords"
   ]
  },
  {
   "cell_type": "code",
   "execution_count": null,
   "metadata": {
    "collapsed": true
   },
   "outputs": [],
   "source": [
    "mpl.rcParams.update({'font.size': 12})"
   ]
  },
  {
   "cell_type": "markdown",
   "metadata": {},
   "source": [
    "# Load data"
   ]
  },
  {
   "cell_type": "code",
   "execution_count": null,
   "metadata": {
    "collapsed": true
   },
   "outputs": [],
   "source": [
    "DATA = Path('Data')\n",
    "meta = pd.read_csv(DATA/'meta.csv')\n",
    "df = pd.read_csv(DATA/'data.csv')"
   ]
  },
  {
   "cell_type": "markdown",
   "metadata": {},
   "source": [
    "# Parser"
   ]
  },
  {
   "cell_type": "code",
   "execution_count": null,
   "metadata": {
    "collapsed": true
   },
   "outputs": [],
   "source": [
    "# class Parser:\n",
    "#     def __init__(self):\n",
    "#         self.\n",
    "        "
   ]
  },
  {
   "cell_type": "markdown",
   "metadata": {},
   "source": [
    "# EDA"
   ]
  },
  {
   "cell_type": "code",
   "execution_count": null,
   "metadata": {
    "collapsed": true
   },
   "outputs": [],
   "source": [
    "def show_freqs(tokens, vocabulary=None, n=15, logscale=True, token_lab='Token', compact=False):\n",
    "    if compact:\n",
    "        _, axs = plt.subplots(1,3, figsize=(18,5))\n",
    "    else:\n",
    "        _, axs = plt.subplots(3,1, figsize=(12,12))\n",
    "    \n",
    "    if vocabulary:\n",
    "        vocabulary = set(vocabulary)\n",
    "        tokens = [token for token in  tokens if token in vocabulary]\n",
    "    count = Counter(tokens)\n",
    "    count = OrderedDict(sorted(count.items(), key=lambda kv: kv[1]))\n",
    "    vals = list(count.values())\n",
    "    keys = list(count.keys())\n",
    "    bidi_keys = [bidi.get_display(token) for token in keys]\n",
    "    \n",
    "    # quantile plot\n",
    "    ax = axs[0]\n",
    "    ax.axhline(np.sum(vals)/len(vals), linestyle=':', color='blue', label='Average')\n",
    "    ax.plot(list(range(101)), [vals[int(q/100*(len(vals)-1))] for q in range(101)], 'k.-')\n",
    "    ax.set_xlabel('Quantile [%]')\n",
    "    ax.set_ylabel('Number of occurences')\n",
    "    ax.set_xlim((0,100))\n",
    "    ax.set_title(f'Total: {len(tokens):d}, Unique: {len(keys):d}')\n",
    "    if logscale:\n",
    "        ax.set_yscale('log')\n",
    "    ax.grid()\n",
    "    ax.legend()\n",
    "    \n",
    "    # top tokens\n",
    "    ax = axs[1]\n",
    "    ax.bar(bidi_keys[-1:-n-1:-1], vals[-1:-n-1:-1])\n",
    "    ax.tick_params(axis='x', rotation=45)\n",
    "    ax.set_xlabel(token_lab)\n",
    "    ax.set_ylabel('Occurences')\n",
    "    ax.set_title('Top')\n",
    "    if logscale:\n",
    "        ax.set_yscale('log')\n",
    "    ax.grid()\n",
    "    for label in ax.xaxis.get_ticklabels():\n",
    "        label.set_ha('right')\n",
    "    \n",
    "    # tail tokens\n",
    "    ax = axs[2]\n",
    "    ax.bar(list(reversed(bidi_keys[:n])), list(reversed(vals[:n])))\n",
    "    ax.tick_params(axis='x', rotation=45)\n",
    "    for label in ax.xaxis.get_ticklabels():\n",
    "        label.set_ha('right')\n",
    "    ax.set_xlabel(token_lab)\n",
    "    ax.set_ylabel('Occurences')\n",
    "    ax.set_title('Tail')\n",
    "    if logscale:\n",
    "        ax.set_yscale('log')\n",
    "    ax.grid()\n",
    "    \n",
    "    plt.tight_layout()\n",
    "    \n",
    "    return (list(reversed(keys)), list(reversed(vals)))"
   ]
  },
  {
   "cell_type": "code",
   "execution_count": null,
   "metadata": {
    "collapsed": true
   },
   "outputs": [],
   "source": []
  }
 ],
 "metadata": {
  "kernelspec": {
   "display_name": "Python 3",
   "language": "python",
   "name": "python3"
  },
  "language_info": {
   "codemirror_mode": {
    "name": "ipython",
    "version": 3
   },
   "file_extension": ".py",
   "mimetype": "text/x-python",
   "name": "python",
   "nbconvert_exporter": "python",
   "pygments_lexer": "ipython3",
   "version": "3.6.2"
  }
 },
 "nbformat": 4,
 "nbformat_minor": 2
}
