{
 "cells": [
  {
   "cell_type": "code",
   "execution_count": null,
   "metadata": {
    "colab": {},
    "colab_type": "code",
    "id": "F4I6pNrPmiIs"
   },
   "outputs": [],
   "source": [
    "%reload_ext autoreload\n",
    "%autoreload 2\n",
    "%matplotlib inline"
   ]
  },
  {
   "cell_type": "code",
   "execution_count": null,
   "metadata": {
    "colab": {},
    "colab_type": "code",
    "id": "mGZsuKunmiIx"
   },
   "outputs": [],
   "source": [
    "import pandas as pd\n",
    "import numpy as np\n",
    "import matplotlib as mpl\n",
    "import matplotlib.pyplot as plt\n",
    "import seaborn as sns\n",
    "import re\n",
    "import pickle\n",
    "import random\n",
    "from pathlib import Path\n",
    "from time import time\n",
    "from datetime import datetime\n",
    "from tqdm import tqdm, tnrange, tqdm_notebook\n",
    "from pprint import pprint\n",
    "from warnings import warn\n",
    "from datetime import datetime\n",
    "import itertools\n",
    "from collections import Counter, OrderedDict\n",
    "from bidi import algorithm as bidi\n",
    "from hebrew_stopwords import hebrew_stopwords\n",
    "import multiprocessing as mp\n",
    "import json\n",
    "from tagger import lemmatize"
   ]
  },
  {
   "cell_type": "markdown",
   "metadata": {
    "colab_type": "text",
    "id": "FKPi1lA5miI0"
   },
   "source": [
    "# Preform Lemmatezaion over all the topics from data_committees_kns_committeesession_kns_committeesession.csv"
   ]
  },
  {
   "cell_type": "code",
   "execution_count": null,
   "metadata": {
    "colab": {},
    "colab_type": "code",
    "id": "31xoKLVZmiI1"
   },
   "outputs": [],
   "source": [
    "mpl.rcParams.update({'font.size': 13})"
   ]
  },
  {
   "cell_type": "markdown",
   "metadata": {
    "colab_type": "text",
    "id": "lm5ICufimiI5"
   },
   "source": [
    "### Read the csv containing CommitteeSessionID and topic"
   ]
  },
  {
   "cell_type": "code",
   "execution_count": null,
   "metadata": {
    "colab": {},
    "colab_type": "code",
    "id": "9BN18hXGmiI6",
    "outputId": "26ea871b-28ab-4912-91f4-b80820d1a646"
   },
   "outputs": [
    {
     "name": "stdout",
     "output_type": "stream",
     "text": [
      "CPU times: user 984 ms, sys: 50 ms, total: 1.03 s\n",
      "Wall time: 1.04 s\n"
     ]
    }
   ],
   "source": [
    "%%time\n",
    "DATA = Path('../data')\n",
    "df_topic = pd.read_csv(DATA/'data_committees_kns_committeesession_kns_committeesession.csv')"
   ]
  },
  {
   "cell_type": "code",
   "execution_count": null,
   "metadata": {
    "colab": {},
    "colab_type": "code",
    "id": "LHfYKyW6miI-",
    "outputId": "c0c757a3-c899-4f1a-d05c-d50f0cfe4edb"
   },
   "outputs": [
    {
     "data": {
      "text/html": [
       "<div>\n",
       "<style scoped>\n",
       "    .dataframe tbody tr th:only-of-type {\n",
       "        vertical-align: middle;\n",
       "    }\n",
       "\n",
       "    .dataframe tbody tr th {\n",
       "        vertical-align: top;\n",
       "    }\n",
       "\n",
       "    .dataframe thead th {\n",
       "        text-align: right;\n",
       "    }\n",
       "</style>\n",
       "<table border=\"1\" class=\"dataframe\">\n",
       "  <thead>\n",
       "    <tr style=\"text-align: right;\">\n",
       "      <th></th>\n",
       "      <th>CommitteeSessionID</th>\n",
       "      <th>Number</th>\n",
       "      <th>KnessetNum</th>\n",
       "      <th>TypeID</th>\n",
       "      <th>TypeDesc</th>\n",
       "      <th>CommitteeID</th>\n",
       "      <th>Location</th>\n",
       "      <th>SessionUrl</th>\n",
       "      <th>BroadcastUrl</th>\n",
       "      <th>StartDate</th>\n",
       "      <th>...</th>\n",
       "      <th>download_filename</th>\n",
       "      <th>download_filesize</th>\n",
       "      <th>parts_crc32c</th>\n",
       "      <th>parts_filesize</th>\n",
       "      <th>parts_parsed_filename</th>\n",
       "      <th>text_crc32c</th>\n",
       "      <th>text_filesize</th>\n",
       "      <th>text_parsed_filename</th>\n",
       "      <th>topics</th>\n",
       "      <th>committee_name</th>\n",
       "    </tr>\n",
       "  </thead>\n",
       "  <tbody>\n",
       "    <tr>\n",
       "      <th>0</th>\n",
       "      <td>64990</td>\n",
       "      <td>NaN</td>\n",
       "      <td>15</td>\n",
       "      <td>161</td>\n",
       "      <td>פתוחה</td>\n",
       "      <td>25</td>\n",
       "      <td>חדר הוועדה, באגף קדמה, קומה 1, חדר 1720</td>\n",
       "      <td>http://main.knesset.gov.il/Activity/committees...</td>\n",
       "      <td>NaN</td>\n",
       "      <td>2002-06-12 09:00:00</td>\n",
       "      <td>...</td>\n",
       "      <td>NaN</td>\n",
       "      <td>NaN</td>\n",
       "      <td>NaN</td>\n",
       "      <td>NaN</td>\n",
       "      <td>NaN</td>\n",
       "      <td>NaN</td>\n",
       "      <td>NaN</td>\n",
       "      <td>NaN</td>\n",
       "      <td>[\"חוק הבחירות לכנסת (תיקון מס' 52), התשס\\\"ד-20...</td>\n",
       "      <td>החוקה, חוק ומשפט</td>\n",
       "    </tr>\n",
       "    <tr>\n",
       "      <th>1</th>\n",
       "      <td>470756</td>\n",
       "      <td>NaN</td>\n",
       "      <td>18</td>\n",
       "      <td>161</td>\n",
       "      <td>פתוחה</td>\n",
       "      <td>661</td>\n",
       "      <td>חדר הוועדה, באגף הוועדות (קדמה), קומה 2, חדר 2740</td>\n",
       "      <td>http://main.knesset.gov.il/Activity/committees...</td>\n",
       "      <td>NaN</td>\n",
       "      <td>2012-06-06 09:30:00</td>\n",
       "      <td>...</td>\n",
       "      <td>NaN</td>\n",
       "      <td>NaN</td>\n",
       "      <td>NaN</td>\n",
       "      <td>NaN</td>\n",
       "      <td>NaN</td>\n",
       "      <td>NaN</td>\n",
       "      <td>NaN</td>\n",
       "      <td>NaN</td>\n",
       "      <td>[\"דו\\\"ח מבקר המדינה על ההתמודדות עם המשט הטורק...</td>\n",
       "      <td>לענייני ביקורת המדינה</td>\n",
       "    </tr>\n",
       "    <tr>\n",
       "      <th>2</th>\n",
       "      <td>470814</td>\n",
       "      <td>NaN</td>\n",
       "      <td>18</td>\n",
       "      <td>161</td>\n",
       "      <td>פתוחה</td>\n",
       "      <td>668</td>\n",
       "      <td>חדר הוועדה, באגף הוועדות (קדמה), קומה 3, חדר 3710</td>\n",
       "      <td>http://main.knesset.gov.il/Activity/committees...</td>\n",
       "      <td>http://main.knesset.gov.il/Activity/committees...</td>\n",
       "      <td>2012-06-06 09:30:00</td>\n",
       "      <td>...</td>\n",
       "      <td>NaN</td>\n",
       "      <td>NaN</td>\n",
       "      <td>NaN</td>\n",
       "      <td>NaN</td>\n",
       "      <td>NaN</td>\n",
       "      <td>NaN</td>\n",
       "      <td>NaN</td>\n",
       "      <td>NaN</td>\n",
       "      <td>[\"פניות ציבור בנוגע לתוכנית \\\"מנוחה בכבוד\\\" של...</td>\n",
       "      <td>לפניות הציבור</td>\n",
       "    </tr>\n",
       "    <tr>\n",
       "      <th>3</th>\n",
       "      <td>471255</td>\n",
       "      <td>NaN</td>\n",
       "      <td>18</td>\n",
       "      <td>161</td>\n",
       "      <td>פתוחה</td>\n",
       "      <td>660</td>\n",
       "      <td>חדר הוועדה, באגף הוועדות (קדמה), קומה 3, חדר 3730</td>\n",
       "      <td>http://main.knesset.gov.il/Activity/committees...</td>\n",
       "      <td>NaN</td>\n",
       "      <td>2012-06-13 09:30:00</td>\n",
       "      <td>...</td>\n",
       "      <td>NaN</td>\n",
       "      <td>NaN</td>\n",
       "      <td>NaN</td>\n",
       "      <td>NaN</td>\n",
       "      <td>NaN</td>\n",
       "      <td>NaN</td>\n",
       "      <td>NaN</td>\n",
       "      <td>NaN</td>\n",
       "      <td>[\"תקנות אגרות בריאות (תיקון), התשע\\\"ב - 2012\",...</td>\n",
       "      <td>העבודה, הרווחה והבריאות</td>\n",
       "    </tr>\n",
       "    <tr>\n",
       "      <th>4</th>\n",
       "      <td>471661</td>\n",
       "      <td>NaN</td>\n",
       "      <td>18</td>\n",
       "      <td>161</td>\n",
       "      <td>פתוחה</td>\n",
       "      <td>660</td>\n",
       "      <td>חדר הוועדה, באגף הוועדות (קדמה), קומה 3, חדר 3730</td>\n",
       "      <td>http://main.knesset.gov.il/Activity/committees...</td>\n",
       "      <td>NaN</td>\n",
       "      <td>2012-06-20 09:00:00</td>\n",
       "      <td>...</td>\n",
       "      <td>NaN</td>\n",
       "      <td>NaN</td>\n",
       "      <td>NaN</td>\n",
       "      <td>NaN</td>\n",
       "      <td>NaN</td>\n",
       "      <td>NaN</td>\n",
       "      <td>NaN</td>\n",
       "      <td>NaN</td>\n",
       "      <td>[\"מעמדם של עובדי המכון למחקר ביולוגי בישראל\"]</td>\n",
       "      <td>העבודה, הרווחה והבריאות</td>\n",
       "    </tr>\n",
       "  </tbody>\n",
       "</table>\n",
       "<p>5 rows × 24 columns</p>\n",
       "</div>"
      ],
      "text/plain": [
       "   CommitteeSessionID  Number  KnessetNum  TypeID TypeDesc  CommitteeID  \\\n",
       "0               64990     NaN          15     161    פתוחה           25   \n",
       "1              470756     NaN          18     161    פתוחה          661   \n",
       "2              470814     NaN          18     161    פתוחה          668   \n",
       "3              471255     NaN          18     161    פתוחה          660   \n",
       "4              471661     NaN          18     161    פתוחה          660   \n",
       "\n",
       "                                            Location  \\\n",
       "0            חדר הוועדה, באגף קדמה, קומה 1, חדר 1720   \n",
       "1  חדר הוועדה, באגף הוועדות (קדמה), קומה 2, חדר 2740   \n",
       "2  חדר הוועדה, באגף הוועדות (קדמה), קומה 3, חדר 3710   \n",
       "3  חדר הוועדה, באגף הוועדות (קדמה), קומה 3, חדר 3730   \n",
       "4  חדר הוועדה, באגף הוועדות (קדמה), קומה 3, חדר 3730   \n",
       "\n",
       "                                          SessionUrl  \\\n",
       "0  http://main.knesset.gov.il/Activity/committees...   \n",
       "1  http://main.knesset.gov.il/Activity/committees...   \n",
       "2  http://main.knesset.gov.il/Activity/committees...   \n",
       "3  http://main.knesset.gov.il/Activity/committees...   \n",
       "4  http://main.knesset.gov.il/Activity/committees...   \n",
       "\n",
       "                                        BroadcastUrl            StartDate  \\\n",
       "0                                                NaN  2002-06-12 09:00:00   \n",
       "1                                                NaN  2012-06-06 09:30:00   \n",
       "2  http://main.knesset.gov.il/Activity/committees...  2012-06-06 09:30:00   \n",
       "3                                                NaN  2012-06-13 09:30:00   \n",
       "4                                                NaN  2012-06-20 09:00:00   \n",
       "\n",
       "   ... download_filename download_filesize parts_crc32c parts_filesize  \\\n",
       "0  ...               NaN               NaN          NaN            NaN   \n",
       "1  ...               NaN               NaN          NaN            NaN   \n",
       "2  ...               NaN               NaN          NaN            NaN   \n",
       "3  ...               NaN               NaN          NaN            NaN   \n",
       "4  ...               NaN               NaN          NaN            NaN   \n",
       "\n",
       "  parts_parsed_filename  text_crc32c text_filesize  text_parsed_filename  \\\n",
       "0                   NaN          NaN           NaN                   NaN   \n",
       "1                   NaN          NaN           NaN                   NaN   \n",
       "2                   NaN          NaN           NaN                   NaN   \n",
       "3                   NaN          NaN           NaN                   NaN   \n",
       "4                   NaN          NaN           NaN                   NaN   \n",
       "\n",
       "                                              topics           committee_name  \n",
       "0  [\"חוק הבחירות לכנסת (תיקון מס' 52), התשס\\\"ד-20...         החוקה, חוק ומשפט  \n",
       "1  [\"דו\\\"ח מבקר המדינה על ההתמודדות עם המשט הטורק...    לענייני ביקורת המדינה  \n",
       "2  [\"פניות ציבור בנוגע לתוכנית \\\"מנוחה בכבוד\\\" של...            לפניות הציבור  \n",
       "3  [\"תקנות אגרות בריאות (תיקון), התשע\\\"ב - 2012\",...  העבודה, הרווחה והבריאות  \n",
       "4      [\"מעמדם של עובדי המכון למחקר ביולוגי בישראל\"]  העבודה, הרווחה והבריאות  \n",
       "\n",
       "[5 rows x 24 columns]"
      ]
     },
     "execution_count": 7,
     "metadata": {
      "tags": []
     },
     "output_type": "execute_result"
    }
   ],
   "source": [
    "df_topic.head()"
   ]
  },
  {
   "cell_type": "markdown",
   "metadata": {
    "colab_type": "text",
    "id": "n4-iRd5TmiJB"
   },
   "source": [
    "### list of topics "
   ]
  },
  {
   "cell_type": "code",
   "execution_count": null,
   "metadata": {
    "colab": {},
    "colab_type": "code",
    "id": "c3JqkytZmiJC"
   },
   "outputs": [],
   "source": [
    "def preprocess_topics(topic_item):\n",
    "    if str(topic_item).startswith(\"[\"):\n",
    "        return \" \".join(json.loads(topic_item))\n",
    "    else:\n",
    "        return \"\"\n",
    "    \n"
   ]
  },
  {
   "cell_type": "code",
   "execution_count": null,
   "metadata": {
    "colab": {},
    "colab_type": "code",
    "id": "SVPxeglNmiJE"
   },
   "outputs": [],
   "source": [
    "topic_list = [preprocess_topics(a) for a in df_topic.topics]"
   ]
  },
  {
   "cell_type": "code",
   "execution_count": null,
   "metadata": {
    "colab": {},
    "colab_type": "code",
    "id": "wJbBmvfUmiJG",
    "outputId": "56ae89db-25d7-4d2b-9b29-a54c363c0e1e"
   },
   "outputs": [
    {
     "data": {
      "text/plain": [
       "['חוק הבחירות לכנסת (תיקון מס\\' 52), התשס\"ד-2004',\n",
       " 'דו\"ח מבקר המדינה על ההתמודדות עם המשט הטורקי ',\n",
       " 'פניות ציבור בנוגע לתוכנית \"מנוחה בכבוד\" של משרד הבריאות',\n",
       " 'תקנות אגרות בריאות (תיקון), התשע\"ב - 2012 תקנות הרוקחים (תנאי ייצור נאותים לתכשירים)(תיקון), התשע\"ב - 2012 תקנות הרוקחים (תכשירים)(תיקון), התשע\"ב - 2012',\n",
       " 'מעמדם של עובדי המכון למחקר ביולוגי בישראל']"
      ]
     },
     "execution_count": 10,
     "metadata": {
      "tags": []
     },
     "output_type": "execute_result"
    }
   ],
   "source": [
    "topic_list[:5]"
   ]
  },
  {
   "cell_type": "markdown",
   "metadata": {
    "colab_type": "text",
    "id": "ls-FKab1miJK"
   },
   "source": [
    "## Run lemmetization using yap in tagger.py - multithreaded"
   ]
  },
  {
   "cell_type": "code",
   "execution_count": null,
   "metadata": {
    "colab": {},
    "colab_type": "code",
    "id": "3R1DvbKhmiJL"
   },
   "outputs": [],
   "source": [
    "NUM_OF_THREADS = 40"
   ]
  },
  {
   "cell_type": "code",
   "execution_count": null,
   "metadata": {
    "colab": {},
    "colab_type": "code",
    "id": "egoW1HClmiJN"
   },
   "outputs": [],
   "source": [
    "import threading\n",
    "global tidx\n",
    "global results\n",
    "\n",
    "tidx = 0\n",
    "results = [None]*len(topic_list)\n",
    "\n",
    "class Runner(threading.Thread):\n",
    "    def __init__(self, lock):\n",
    "        self.lock = lock\n",
    "        threading.Thread.__init__(self)\n",
    "        \n",
    "    def run(self):\n",
    "        global tidx\n",
    "\n",
    "        while tidx <= len(topic_list):\n",
    "            self.lock.acquire()\n",
    "            run_on = tidx\n",
    "            tidx += 1\n",
    "            print(\"Increasing to \" + str(tidx))\n",
    "            self.lock.release()\n",
    "\n",
    "            res = lemmatize(topic_list[run_on])\n",
    "            self.lock.acquire()\n",
    "            global results\n",
    "            results[run_on] = res\n",
    "            self.lock.release()\n",
    "             "
   ]
  },
  {
   "cell_type": "code",
   "execution_count": null,
   "metadata": {
    "colab": {},
    "colab_type": "code",
    "id": "guyiqK8rmiJQ"
   },
   "outputs": [],
   "source": [
    "lock = threading.Lock()\n",
    "runners = [Runner(lock) for i in range(NUM_OF_THREADS)]\n",
    "for r in runners:\n",
    "    r.start()"
   ]
  },
  {
   "cell_type": "markdown",
   "metadata": {
    "colab_type": "text",
    "id": "t0xvmqBfmiJU"
   },
   "source": [
    "### wait for all workers to stop (check that results is full)"
   ]
  },
  {
   "cell_type": "code",
   "execution_count": null,
   "metadata": {
    "colab": {},
    "colab_type": "code",
    "id": "jXfRz4uVmiJU"
   },
   "outputs": [],
   "source": [
    "topic_list[-1]"
   ]
  },
  {
   "cell_type": "code",
   "execution_count": null,
   "metadata": {
    "colab": {},
    "colab_type": "code",
    "id": "GkeT_meZmiJW"
   },
   "outputs": [],
   "source": [
    "results[-1]"
   ]
  },
  {
   "cell_type": "markdown",
   "metadata": {
    "colab_type": "text",
    "id": "Wu_lOF5cmiJY"
   },
   "source": [
    "## Save these results intermedietly "
   ]
  },
  {
   "cell_type": "markdown",
   "metadata": {
    "colab_type": "text",
    "id": "ejXezLJgmiJZ"
   },
   "source": [
    "     results is built as a list of dicts (member per CommitteeSessionID)\n",
    "     each dict contains a list of words per part of speach\n",
    "     e.g \n",
    "     {'JJ': [],                 # Adjectives\n",
    "         'CD': ['2019'],        # numbers \n",
    "         'NN': ['שינוי', 'תקציב'], # nouns \n",
    "         'NNT': ['שינה'],        # verb name \n",
    "         'NNP': [],             # entity name (e.g \"מיכאל\")\n",
    "         'VB': []}              # verbs"
   ]
  },
  {
   "cell_type": "code",
   "execution_count": null,
   "metadata": {
    "colab": {},
    "colab_type": "code",
    "id": "ahyjj78qmiJa"
   },
   "outputs": [],
   "source": [
    "CommitteeSessionID = df_topic.CommitteeSessionID.values\n",
    "merged_df = pd.DataFrame({'CommitteeSessionID':CommitteeSessionID, 'lemmas':results})\n",
    "merged_df.head()"
   ]
  },
  {
   "cell_type": "code",
   "execution_count": null,
   "metadata": {
    "colab": {},
    "colab_type": "code",
    "id": "X2ulaa3vmiJd"
   },
   "outputs": [],
   "source": [
    "with open('./topic_lemmas_df.pkl','wb') as f:\n",
    "    pickle.dump(merged_df, f)"
   ]
  },
  {
   "cell_type": "markdown",
   "metadata": {
    "colab_type": "text",
    "id": "U7D8CU3MmiJg"
   },
   "source": [
    "# Perform LDA on lemmatized topics\n",
    "The purpose of this code is to create an LDA-Model-Object (using gensim library to do so). The LDA-Model is trained on the names of the sessions, as depicted in the column 'topics' in the file 'data_committees_kns_committeesession_kns_committeesession.csv'."
   ]
  },
  {
   "cell_type": "code",
   "execution_count": null,
   "metadata": {
    "colab": {},
    "colab_type": "code",
    "id": "5tV2o_w8miJh"
   },
   "outputs": [],
   "source": [
    "# imports\n",
    "import re\n",
    "import numpy as np\n",
    "import pandas as pd\n",
    "from pprint import pprint\n",
    "import pickle\n",
    "\n",
    "# Gensim\n",
    "import gensim\n",
    "import gensim.corpora as corpora\n",
    "from gensim.utils import simple_preprocess\n",
    "from gensim.models import CoherenceModel\n",
    "\n",
    "# Plotting tools\n",
    "#!pip install pyLDAvis\n",
    "import pyLDAvis\n",
    "import pyLDAvis.gensim\n",
    "import matplotlib.pyplot as plt\n",
    "%matplotlib inline\n",
    "\n",
    "import warnings\n",
    "warnings.filterwarnings(\"ignore\", category=DeprecationWarning)\n",
    "\n",
    "\n",
    "import time"
   ]
  },
  {
   "cell_type": "markdown",
   "metadata": {
    "colab_type": "text",
    "id": "o9lnhcpxmiJj"
   },
   "source": [
    "## Load data if starting from precomputed results \n",
    "The following code does the following:\n",
    "1.   Uses the pickle library to read \"topic_lemmas.pkl\". This file consists of a list of dictionaries. Every dictionary describes a different title, in its lemmatized form (using the YAP). The values of the dictionary are the lemmatized words of the title, and the keys of the dictionary are parts of speech. For example, if the title is \"בשנת 2002 דן קנה חלב\", then the dictionary is:\n",
    "{'CD': ['2002'], \n",
    " 'JJ' : [],\n",
    " 'NN': ['שנה', 'חלב'],\n",
    " 'NNP': ['דן,'],\n",
    " ,'NNT':[],\n",
    " 'VB': ['קנה']\n",
    " ''}\n",
    " The idea is basically to sort the different words according to their part-of-speech.\n",
    "2.   After loading the pickle and get rid of None values, the lemmatized title is defined as al parts of speech except for the 'CD' (words that belong to 'CD' are numbers).\n",
    "\n",
    "\n"
   ]
  },
  {
   "cell_type": "code",
   "execution_count": null,
   "metadata": {
    "colab": {},
    "colab_type": "code",
    "id": "DkLo_L1tmiJk"
   },
   "outputs": [],
   "source": [
    "topic_lemmas_df = pd.read_pickle('topic_lemmas_df.pkl')"
   ]
  },
  {
   "cell_type": "markdown",
   "metadata": {
    "colab_type": "text",
    "id": "4zRCpZaEmiJn"
   },
   "source": [
    "## create list of tokens from lemma dicts"
   ]
  },
  {
   "cell_type": "code",
   "execution_count": null,
   "metadata": {
    "colab": {},
    "colab_type": "code",
    "id": "17qiGzU8miJo"
   },
   "outputs": [],
   "source": [
    "topic_lemas_list = topic_lemmas_df.lemmas.values\n",
    "topic_lemas_list = [x if x is not None else {'JJ':[], 'NN':[], 'NNP':[], 'NNT':[], 'VB':[]} for x in topic_lemas_list]\n",
    "lemmatize_title_func = lambda dic: dic['JJ'] + dic['NN'] + dic['NNP'] + dic['NNT'] + dic['VB']\n",
    "lemmatized_titles = [lemmatize_title_func(title) for title in topic_lemas_list]"
   ]
  },
  {
   "cell_type": "code",
   "execution_count": null,
   "metadata": {
    "colab": {},
    "colab_type": "code",
    "id": "qGBtzfMzmiJp",
    "outputId": "cb536f96-76b2-44aa-8d52-99fbd27228a3"
   },
   "outputs": [
    {
     "data": {
      "text/plain": [
       "[['בחירה', 'מס', 'כנסת', 'תשס', 'חוק', 'תיקון'],\n",
       " ['תורכי', 'מדינה', 'התמודדות', 'משט', 'ח', 'מבקר'],\n",
       " ['ציבור', 'תוכנית', 'מנוחה', 'כבוד', 'בריאות', 'פנייה', 'משרד'],\n",
       " ['בריא',\n",
       "  'נאות',\n",
       "  'אגרה',\n",
       "  'תיקון',\n",
       "  'רוקח',\n",
       "  'ייצור',\n",
       "  'תכשיר',\n",
       "  'תיקון',\n",
       "  'רוקח',\n",
       "  'תכשיר',\n",
       "  'תיקון',\n",
       "  'ב',\n",
       "  'ב',\n",
       "  'ב',\n",
       "  'תקנה',\n",
       "  'תקנה',\n",
       "  'תנאי',\n",
       "  'תקנה'],\n",
       " ['ביולוגי', 'מעמד', 'מכון', 'מחקר', 'ישראל', 'עובד']]"
      ]
     },
     "execution_count": 13,
     "metadata": {
      "tags": []
     },
     "output_type": "execute_result"
    }
   ],
   "source": [
    "lemmatized_titles[:5]"
   ]
  },
  {
   "cell_type": "markdown",
   "metadata": {
    "colab_type": "text",
    "id": "kS917hz5miJx"
   },
   "source": [
    "## Tokenize and remove hebrew_stopwords"
   ]
  },
  {
   "cell_type": "code",
   "execution_count": null,
   "metadata": {
    "colab": {},
    "colab_type": "code",
    "id": "FvouVLCymiJy"
   },
   "outputs": [],
   "source": [
    "# Imports from github/ido90 source\n",
    "from hebrew_stopwords import hebrew_stopwords\n",
    "from Parser import tokenize\n",
    "is_stopword = lambda word: bool(word in hebrew_stopwords)\n",
    "is_jibbrish = lambda word: bool(len(word) < 3)\n",
    "is_a_year = lambda word: (word == \"תשח\") or (word == \"תשע\") or (word == \"תשס\")\n",
    "tests = [is_stopword, is_jibbrish, is_a_year]\n",
    "filter_word = lambda word : sum([test(word) for test in tests]) == 0\n",
    "tokenized_titles = [list(filter(filter_word, title)) for title in lemmatized_titles]"
   ]
  },
  {
   "cell_type": "markdown",
   "metadata": {
    "colab_type": "text",
    "id": "Unj5Ml83miJz"
   },
   "source": [
    "## Create corpus & TfidfModel"
   ]
  },
  {
   "cell_type": "markdown",
   "metadata": {
    "colab_type": "text",
    "id": "aEVq2L1nmiJ0"
   },
   "source": [
    "    Create id2word - word id to word Dictionary\n",
    "    Create corpus - for each title, list of tuples containing a word ID and num of occurnces"
   ]
  },
  {
   "cell_type": "code",
   "execution_count": null,
   "metadata": {
    "colab": {},
    "colab_type": "code",
    "id": "7jTLQbTxmiJ1"
   },
   "outputs": [],
   "source": [
    "titles = tokenized_titles\n",
    "\n",
    "# Create Dictionary\n",
    "id2word = corpora.Dictionary(titles)\n",
    "\n",
    "# Create Corpus\n",
    "corpus = [id2word.doc2bow(title) for title in titles]"
   ]
  },
  {
   "cell_type": "code",
   "execution_count": null,
   "metadata": {
    "colab": {},
    "colab_type": "code",
    "id": "S2TqG50UmiJ3",
    "outputId": "8881a370-911a-4971-a5ae-174a25620750"
   },
   "outputs": [
    {
     "data": {
      "text/plain": [
       "[[(0, 1), (1, 1), (2, 1), (3, 1)], [(4, 1), (5, 1), (6, 1), (7, 1), (8, 1)]]"
      ]
     },
     "execution_count": 23,
     "metadata": {
      "tags": []
     },
     "output_type": "execute_result"
    }
   ],
   "source": [
    "corpus[:2]"
   ]
  },
  {
   "cell_type": "markdown",
   "metadata": {
    "colab_type": "text",
    "id": "fEMFq3lNmiJ6"
   },
   "source": [
    "## Calculate LDA\n",
    "The following code receives 'num_topics', trains an LDA-Model such that the number of clusters (of titles) is num_topics. Then, topic coherence score is calculated to see how good of a guess num_topics is."
   ]
  },
  {
   "cell_type": "markdown",
   "metadata": {
    "colab_type": "text",
    "id": "FaKiG3-unXQO"
   },
   "source": []
  },
  {
   "cell_type": "code",
   "execution_count": null,
   "metadata": {
    "colab": {},
    "colab_type": "code",
    "id": "GA--K4FSnWJT"
   },
   "outputs": [],
   "source": []
  },
  {
   "cell_type": "code",
   "execution_count": null,
   "metadata": {
    "colab": {},
    "colab_type": "code",
    "id": "MwbbmCw7miJ7"
   },
   "outputs": [],
   "source": [
    "def calc_model_and_score(num_topics):  \n",
    "    # Build LDA model\n",
    "    lda_model = gensim.models.ldamodel.LdaModel(corpus = corpus,\n",
    "                                             id2word = id2word,\n",
    "                                             num_topics = num_topics,\n",
    "                                             random_state = 100,\n",
    "                                             passes = 10,\n",
    "                                             alpha = 'auto',\n",
    "                                             per_word_topics = True)\n",
    "    coherence_model_ldamallet = CoherenceModel(model=lda_model, texts=titles, dictionary=id2word, coherence='c_v')\n",
    "    coherence_ldamallet = coherence_model_ldamallet.get_coherence()\n",
    "    return lda_model, coherence_ldamallet"
   ]
  },
  {
   "cell_type": "markdown",
   "metadata": {
    "colab_type": "text",
    "id": "Di_HdCUxndjm"
   },
   "source": [
    "The following code tries to train several lda-models, to see which produce highest topic-coherence-values."
   ]
  },
  {
   "cell_type": "code",
   "execution_count": null,
   "metadata": {
    "colab": {},
    "colab_type": "code",
    "id": "_yD4HIIemiJ-"
   },
   "outputs": [],
   "source": [
    "LDA_NUM_OF_TOPICS_LIST = [20, 50, 80, 100, 140, 170, 200]"
   ]
  },
  {
   "cell_type": "code",
   "execution_count": null,
   "metadata": {
    "colab": {},
    "colab_type": "code",
    "id": "mghn0lf8miKA"
   },
   "outputs": [],
   "source": [
    "import threading\n",
    "global tidx\n",
    "global results\n",
    "\n",
    "inps = LDA_NUM_OF_TOPICS_LIST\n",
    "results = [None]*len(inps)\n",
    "\n",
    "class Runner(threading.Thread):\n",
    "    def __init__(self, lock, i, num):\n",
    "        self.lock = lock\n",
    "        self.num = num\n",
    "        self.i = i\n",
    "        threading.Thread.__init__(self)\n",
    "        \n",
    "    def run(self):\n",
    "        r = calc_model_and_score(self.num)\n",
    "        self.lock.acquire()\n",
    "        global results\n",
    "        results[self.i] = r\n",
    "        self.lock.release()\n",
    "             "
   ]
  },
  {
   "cell_type": "markdown",
   "metadata": {
    "colab_type": "text",
    "id": "XJme7YkWmiKB"
   },
   "source": [
    "## This section runs the LDA multithreaded over LDA_NUM_OF_TOPICS_LIST\n",
    "    Check completion by printing results and seeing that is full and no None's"
   ]
  },
  {
   "cell_type": "code",
   "execution_count": null,
   "metadata": {
    "colab": {},
    "colab_type": "code",
    "id": "nFRfbyV-miKB"
   },
   "outputs": [],
   "source": [
    "lock = threading.Lock()\n",
    "runners = [Runner(lock, i, inps[i]) for i in range(len(inps))]\n",
    "\n",
    "for r in runners:\n",
    "    r.start()"
   ]
  },
  {
   "cell_type": "code",
   "execution_count": null,
   "metadata": {
    "colab": {},
    "colab_type": "code",
    "id": "BiU0u4-ImiKD"
   },
   "outputs": [],
   "source": [
    "print(results)"
   ]
  },
  {
   "cell_type": "markdown",
   "metadata": {
    "colab_type": "text",
    "id": "wz4cG_1xmiKH"
   },
   "source": [
    "## Save intermediet results to pickle"
   ]
  },
  {
   "cell_type": "code",
   "execution_count": null,
   "metadata": {
    "colab": {},
    "colab_type": "code",
    "id": "eNMleacsmiKI"
   },
   "outputs": [],
   "source": [
    "data = {i : results[i] for i,n_topics in enumerate(LDA_NUM_OF_TOPICS_LIST)}\n",
    "lda_results_df = pd.DataFrame.from_dict(data, orient='index')\n",
    "lda_results_df.to_pickle('results_LDA.pkl')"
   ]
  },
  {
   "cell_type": "code",
   "execution_count": null,
   "metadata": {
    "colab": {},
    "colab_type": "code",
    "id": "yuKq0HNzmiKN"
   },
   "outputs": [],
   "source": [
    "with open('results_LDA.pkl', 'rb') as f:\n",
    "    lda_results_df = pickle.load(f)"
   ]
  },
  {
   "cell_type": "markdown",
   "metadata": {
    "colab_type": "text",
    "id": "cZRqC9YImiKO"
   },
   "source": [
    "## Extract single model with certain topic numbers (this case 100)"
   ]
  },
  {
   "cell_type": "code",
   "execution_count": null,
   "metadata": {
    "colab": {},
    "colab_type": "code",
    "id": "SuBuc_MBmiKQ"
   },
   "outputs": [],
   "source": [
    "lda_model = lda_results_df.iloc[3,0]"
   ]
  },
  {
   "cell_type": "markdown",
   "metadata": {
    "colab_type": "text",
    "id": "hVBR6mdFmiKR"
   },
   "source": [
    "### example extract topic for certain enrty in corpus (certain title)"
   ]
  },
  {
   "cell_type": "code",
   "execution_count": null,
   "metadata": {
    "colab": {},
    "colab_type": "code",
    "id": "DnJPXyspmiKS",
    "outputId": "4c5fe413-8beb-4f7f-f2e9-88d96fc146f5"
   },
   "outputs": [
    {
     "data": {
      "text/plain": [
       "[(52, 0.402), (72, 0.402)]"
      ]
     },
     "execution_count": 31,
     "metadata": {
      "tags": []
     },
     "output_type": "execute_result"
    }
   ],
   "source": [
    "lda_model.get_document_topics(corpus[0])"
   ]
  },
  {
   "cell_type": "markdown",
   "metadata": {
    "colab_type": "text",
    "id": "dIobnGOmmiKU"
   },
   "source": [
    "## Print the Keyword in the 10 topics\n"
   ]
  },
  {
   "cell_type": "code",
   "execution_count": null,
   "metadata": {
    "colab": {},
    "colab_type": "code",
    "id": "1e05HAEVmiKU",
    "outputId": "c23464f0-c721-4936-c58c-928d6a548629"
   },
   "outputs": [
    {
     "name": "stdout",
     "output_type": "stream",
     "text": [
      "[(55,\n",
      "  '0.475*\"כנס\" + 0.149*\"שיעור\" + 0.079*\"הבטחה\" + 0.067*\"ראשי\" + 0.053*\"רבנות\" '\n",
      "  '+ 0.030*\"סכם\" + 0.029*\"מיזוג\" + 0.018*\"פנימיות\" + 0.018*\"אימוץ\" + '\n",
      "  '0.017*\"אמנות\"'),\n",
      " (42,\n",
      "  '0.336*\"הסדרה\" + 0.109*\"מילואים\" + 0.106*\"עיסוק\" + 0.101*\"חוק\" + '\n",
      "  '0.072*\"פיקדון\" + 0.059*\"תימן\" + 0.028*\"על-ידי\" + 0.025*\"מתחם\" + '\n",
      "  '0.023*\"מקצוע\" + 0.022*\"משקה\"'),\n",
      " (75,\n",
      "  '0.420*\"עבודה\" + 0.107*\"מזון\" + 0.105*\"בריאות\" + 0.090*\"בטיחות\" + '\n",
      "  '0.072*\"הפרטה\" + 0.058*\"כלי\" + 0.047*\"זיהום\" + 0.026*\"ניעה\" + 0.025*\"דחוף\" + '\n",
      "  '0.020*\"[נוסח\"'),\n",
      " (59,\n",
      "  '0.217*\"מיוחד\" + 0.143*\"דיווח\" + 0.133*\"בריאות\" + 0.080*\"ניהול\" + '\n",
      "  '0.069*\"רפורמה\" + 0.062*\"ביקורת\" + 0.052*\"העסקה\" + 0.042*\"שדה\" + '\n",
      "  '0.042*\"פרויקט\" + 0.040*\"תעופה\"'),\n",
      " (52,\n",
      "  '0.425*\"חוק\" + 0.305*\"תיקון\" + 0.241*\"הצעה\" + 0.011*\"עונש\" + 0.006*\"צבאי\" + '\n",
      "  '0.004*\"שיפוט\" + 0.003*\"הפצה\" + 0.001*\"מצוינות\" + 0.001*\"מרכיב\" + '\n",
      "  '0.001*\"לוויין\"'),\n",
      " (26,\n",
      "  '0.260*\"מים\" + 0.193*\"תאגיד\" + 0.093*\"ביוב\" + 0.087*\"חינוכי\" + 0.066*\"הצלה\" '\n",
      "  '+ 0.050*\"יצר\" + 0.031*\"אובדן\" + 0.030*\"פעל\" + 0.025*\"מחנה\" + 0.025*\"דגל\"'),\n",
      " (18,\n",
      "  '0.650*\"ישראל\" + 0.115*\"בנק\" + 0.053*\"מנהל\" + 0.046*\"הסכם\" + 0.034*\"צוות\" + '\n",
      "  '0.019*\"סירוב\" + 0.012*\"אוכלוסין\" + 0.010*\"הריסה\" + 0.009*\"ייחודי\" + '\n",
      "  '0.008*\"ניסה\"'),\n",
      " (86,\n",
      "  '0.222*\"ארץ\" + 0.159*\"הימור\" + 0.117*\"צפון\" + 0.095*\"חוקי\" + 0.078*\"חילוף\" + '\n",
      "  '0.065*\"גליל\" + 0.063*\"ענישה\" + 0.035*\"מערבי\" + 0.033*\"חשד\" + 0.022*\"פשיעה\"'),\n",
      " (50,\n",
      "  '0.212*\"מאבק\" + 0.126*\"טבע\" + 0.108*\"מזרח\" + 0.069*\"הרכב\" + 0.056*\"נכות\" + '\n",
      "  '0.054*\"שלכת\" + 0.053*\"פרלמנטרי\" + 0.048*\"אומנה\" + 0.048*\"איום\" + '\n",
      "  '0.040*\"עתיד\"'),\n",
      " (88,\n",
      "  '0.264*\"ממשלה\" + 0.148*\"דיון\" + 0.103*\"קריאה\" + 0.095*\"קשת\" + 0.092*\"החלטה\" '\n",
      "  '+ 0.080*\"הצעה\" + 0.061*\"חוק\" + 0.059*\"בקשה\" + 0.023*\"מחה\" + 0.012*\"הצבעה\"'),\n",
      " (36,\n",
      "  '0.204*\"אזור\" + 0.179*\"היערכות\" + 0.099*\"תשתית\" + 0.085*\"רכבת\" + 0.081*\"בוץ\" '\n",
      "  '+ 0.058*\"ליקוי\" + 0.038*\"דמוקרטי\" + 0.035*\"ביתי\" + 0.032*\"רעידה\" + '\n",
      "  '0.032*\"אדמה\"'),\n",
      " (65,\n",
      "  '0.414*\"רפואי\" + 0.204*\"פעיל\" + 0.109*\"פיטורין\" + 0.069*\"טעות\" + '\n",
      "  '0.036*\"הפיכה\" + 0.016*\"צבע\" + 0.016*\"זית\" + 0.014*\"הזנחה\" + 0.011*\"הרס\" + '\n",
      "  '0.009*\"בירושלים\"'),\n",
      " (97,\n",
      "  '0.403*\"מדינה\" + 0.178*\"מבקר\" + 0.113*\"דוח\" + 0.059*\"חווה\" + 0.056*\"דעת\" + '\n",
      "  '0.036*\"בקר\" + 0.030*\"נושא:\" + 0.025*\"לשכה\" + 0.020*\"היבט\" + 0.019*\"ייעוץ\"'),\n",
      " (49,\n",
      "  '0.160*\"אוצר\" + 0.146*\"מעמד\" + 0.120*\"פגיעה\" + 0.081*\"קצבה\" + 0.072*\"קשיש\" + '\n",
      "  '0.068*\"תמיכה\" + 0.060*\"מצוקה\" + 0.045*\"רוקח\" + 0.044*\"רפואה\" + 0.029*\"חסר\"'),\n",
      " (57,\n",
      "  '0.402*\"לאומי\" + 0.359*\"ביטוח\" + 0.101*\"גבייה\" + 0.029*\"סוכנות\" + '\n",
      "  '0.021*\"הגדרה\" + 0.015*\"מגורים\" + 0.010*\"הצבה\" + 0.009*\"עמדה\" + 0.008*\"זקנה\" '\n",
      "  '+ 0.006*\"מופרז\"'),\n",
      " (99,\n",
      "  '0.256*\"פנסיה\" + 0.150*\"ערבי\" + 0.120*\"יישוב\" + 0.118*\"גיל\" + 0.117*\"חברתי\" '\n",
      "  '+ 0.081*\"פריפריה\" + 0.050*\"פרישה\" + 0.040*\"היעדר\" + 0.012*\"מחאה\" + '\n",
      "  '0.010*\"יסודי\"'),\n",
      " (74,\n",
      "  '0.202*\"ועדה\" + 0.121*\"סמכות\" + 0.112*\"המלצה\" + 0.107*\"שונה\" + 0.102*\"ראש\" + '\n",
      "  '0.088*\"יושב\" + 0.074*\"נטילה\" + 0.052*\"עצמאי\" + 0.027*\"אגף\" + 0.018*\"סוף\"'),\n",
      " (68,\n",
      "  '0.149*\"פטור\" + 0.100*\"תעריף\" + 0.099*\"טובין\" + 0.095*\"מכס\" + 0.093*\"קנייה\" '\n",
      "  '+ 0.091*\"תיקון\" + 0.089*\"רישוי\" + 0.057*\"התש\" + 0.055*\"דלק\" + 0.041*\"בלו\"'),\n",
      " (2,\n",
      "  '0.248*\"נוער\" + 0.189*\"חובה\" + 0.106*\"מכרז\" + 0.087*\"עוני\" + 0.087*\"נמל\" + '\n",
      "  '0.052*\"עדיפות\" + 0.042*\"ראייה\" + 0.041*\"תוצרת\" + 0.026*\"העדפה\" + '\n",
      "  '0.019*\"חורף\"'),\n",
      " (1,\n",
      "  '0.530*\"יישום\" + 0.173*\"בנייה\" + 0.117*\"תכנון\" + 0.092*\"חוק\" + 0.024*\"נפש\" + '\n",
      "  '0.014*\"זכר\" + 0.009*\"צומת\" + 0.007*\"מחזור\" + 0.006*\"עיון\" + '\n",
      "  '0.005*\"חד-הוריות\"')]\n"
     ]
    }
   ],
   "source": [
    "pprint(lda_model.print_topics())\n",
    "doc_lda = lda_model[corpus]"
   ]
  },
  {
   "cell_type": "markdown",
   "metadata": {
    "colab_type": "text",
    "id": "utL3ZI34miKW"
   },
   "source": [
    "## PCA visualization"
   ]
  },
  {
   "cell_type": "code",
   "execution_count": null,
   "metadata": {
    "colab": {},
    "colab_type": "code",
    "id": "fXq_sS3DmiKX"
   },
   "outputs": [],
   "source": [
    "print(lda_model.num_topics)\n",
    "pyLDAvis.enable_notebook()\n",
    "vis = pyLDAvis.gensim.prepare(lda_model, corpus, id2word)\n",
    "vis"
   ]
  },
  {
   "cell_type": "markdown",
   "metadata": {},
   "source": [
    "## Export pickle of CommitteeSessionID to topics for use in Parliment member analysis"
   ]
  },
  {
   "cell_type": "code",
   "execution_count": null,
   "metadata": {},
   "outputs": [],
   "source": [
    "topic_lemmas_df['topics'] = [lda_model.get_document_topics(corpus_line) for corpus_line in corpus]\n",
    "topic_lemmas_df.head()"
   ]
  },
  {
   "cell_type": "code",
   "execution_count": null,
   "metadata": {},
   "outputs": [],
   "source": [
    "topic_lemmas_df.to_pickle('id_to_lemma_LDA.pkl')"
   ]
  }
 ],
 "metadata": {
  "colab": {
   "collapsed_sections": [
    "t0xvmqBfmiJU",
    "hVBR6mdFmiKR"
   ],
   "name": "LDA_title_pipeline.ipynb",
   "provenance": [],
   "version": "0.3.2"
  },
  "kernelspec": {
   "display_name": "Python 3",
   "language": "python",
   "name": "python3"
  },
  "language_info": {
   "codemirror_mode": {
    "name": "ipython",
    "version": 3
   },
   "file_extension": ".py",
   "mimetype": "text/x-python",
   "name": "python",
   "nbconvert_exporter": "python",
   "pygments_lexer": "ipython3",
   "version": "3.7.3"
  }
 },
 "nbformat": 4,
 "nbformat_minor": 2
}
