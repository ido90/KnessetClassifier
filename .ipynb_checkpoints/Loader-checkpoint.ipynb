{
 "cells": [
  {
   "cell_type": "code",
   "execution_count": 1,
   "metadata": {
    "collapsed": true
   },
   "outputs": [],
   "source": [
    "%reload_ext autoreload\n",
    "%autoreload 2\n",
    "%matplotlib inline"
   ]
  },
  {
   "cell_type": "code",
   "execution_count": 2,
   "metadata": {
    "collapsed": true
   },
   "outputs": [],
   "source": [
    "import pandas as pd\n",
    "import numpy as np\n",
    "import matplotlib as mpl\n",
    "import matplotlib.pyplot as plt\n",
    "import seaborn as sns\n",
    "import re\n",
    "import pickle\n",
    "from pathlib import Path\n",
    "from time import time\n",
    "from datetime import datetime\n",
    "from tqdm import tqdm, tnrange, tqdm_notebook\n",
    "from pprint import pprint\n",
    "from warnings import warn\n",
    "from datetime import datetime\n",
    "import io\n",
    "import requests\n",
    "import itertools\n",
    "from collections import Counter, OrderedDict\n",
    "from bidi import algorithm as bidi"
   ]
  },
  {
   "cell_type": "code",
   "execution_count": 3,
   "metadata": {
    "collapsed": true
   },
   "outputs": [],
   "source": [
    "mpl.rcParams.update({'font.size': 12})"
   ]
  },
  {
   "cell_type": "markdown",
   "metadata": {},
   "source": [
    "# Get metadata"
   ]
  },
  {
   "cell_type": "code",
   "execution_count": 4,
   "metadata": {
    "collapsed": true
   },
   "outputs": [],
   "source": [
    "DATA = Path('Data')\n",
    "# source: https://console.cloud.google.com/storage/browser/knesset-data-pipelines/data/committees/meeting_protocols_parts/?project=hasadna-oknesset&pli=1\n",
    "path_meta = DATA/'data_committees_meeting_protocols_parts_kns_documentcommitteesession.csv'\n",
    "path_data = DATA/'data.csv'"
   ]
  },
  {
   "cell_type": "code",
   "execution_count": 5,
   "metadata": {
    "collapsed": true
   },
   "outputs": [],
   "source": [
    "meta = pd.read_csv(path_meta)\n",
    "meta['i'] = list(range(len(meta)))\n",
    "meta.rename(columns={'DocumentCommitteeSessionID':'ID'}, inplace=True)"
   ]
  },
  {
   "cell_type": "code",
   "execution_count": 6,
   "metadata": {
    "scrolled": true
   },
   "outputs": [
    {
     "name": "stdout",
     "output_type": "stream",
     "text": [
      "<class 'pandas.core.frame.DataFrame'>\n",
      "RangeIndex: 40136 entries, 0 to 40135\n",
      "Data columns (total 15 columns):\n",
      "ID                    40136 non-null int64\n",
      "CommitteeSessionID    40136 non-null int64\n",
      "GroupTypeID           40136 non-null int64\n",
      "GroupTypeDesc         40136 non-null object\n",
      "ApplicationID         40136 non-null int64\n",
      "ApplicationDesc       40136 non-null object\n",
      "FilePath              40136 non-null object\n",
      "LastUpdatedDate       40136 non-null object\n",
      "KnessetNum            40136 non-null int64\n",
      "protocol_extension    37177 non-null object\n",
      "parsed_filename       37177 non-null object\n",
      "filesize              40136 non-null int64\n",
      "crc32c                37177 non-null object\n",
      "error                 2959 non-null object\n",
      "i                     40136 non-null int64\n",
      "dtypes: int64(7), object(8)\n",
      "memory usage: 4.6+ MB\n"
     ]
    }
   ],
   "source": [
    "meta.info()"
   ]
  },
  {
   "cell_type": "code",
   "execution_count": 7,
   "metadata": {},
   "outputs": [
    {
     "data": {
      "text/html": [
       "<div>\n",
       "<style>\n",
       "    .dataframe thead tr:only-child th {\n",
       "        text-align: right;\n",
       "    }\n",
       "\n",
       "    .dataframe thead th {\n",
       "        text-align: left;\n",
       "    }\n",
       "\n",
       "    .dataframe tbody tr th {\n",
       "        vertical-align: top;\n",
       "    }\n",
       "</style>\n",
       "<table border=\"1\" class=\"dataframe\">\n",
       "  <thead>\n",
       "    <tr style=\"text-align: right;\">\n",
       "      <th></th>\n",
       "      <th>ID</th>\n",
       "      <th>CommitteeSessionID</th>\n",
       "      <th>GroupTypeID</th>\n",
       "      <th>ApplicationID</th>\n",
       "      <th>KnessetNum</th>\n",
       "      <th>filesize</th>\n",
       "      <th>i</th>\n",
       "    </tr>\n",
       "  </thead>\n",
       "  <tbody>\n",
       "    <tr>\n",
       "      <th>count</th>\n",
       "      <td>40136.000000</td>\n",
       "      <td>4.013600e+04</td>\n",
       "      <td>40136.0</td>\n",
       "      <td>40136.0</td>\n",
       "      <td>40136.000000</td>\n",
       "      <td>40136.000000</td>\n",
       "      <td>40136.000000</td>\n",
       "    </tr>\n",
       "    <tr>\n",
       "      <th>mean</th>\n",
       "      <td>291641.471024</td>\n",
       "      <td>1.099156e+06</td>\n",
       "      <td>23.0</td>\n",
       "      <td>1.0</td>\n",
       "      <td>16.420171</td>\n",
       "      <td>68106.410978</td>\n",
       "      <td>20067.500000</td>\n",
       "    </tr>\n",
       "    <tr>\n",
       "      <th>std</th>\n",
       "      <td>120316.915844</td>\n",
       "      <td>8.529294e+05</td>\n",
       "      <td>0.0</td>\n",
       "      <td>0.0</td>\n",
       "      <td>2.936028</td>\n",
       "      <td>57627.943049</td>\n",
       "      <td>11586.409539</td>\n",
       "    </tr>\n",
       "    <tr>\n",
       "      <th>min</th>\n",
       "      <td>71333.000000</td>\n",
       "      <td>6.452000e+04</td>\n",
       "      <td>23.0</td>\n",
       "      <td>1.0</td>\n",
       "      <td>11.000000</td>\n",
       "      <td>0.000000</td>\n",
       "      <td>0.000000</td>\n",
       "    </tr>\n",
       "    <tr>\n",
       "      <th>25%</th>\n",
       "      <td>142276.750000</td>\n",
       "      <td>3.284618e+05</td>\n",
       "      <td>23.0</td>\n",
       "      <td>1.0</td>\n",
       "      <td>14.000000</td>\n",
       "      <td>23104.750000</td>\n",
       "      <td>10033.750000</td>\n",
       "    </tr>\n",
       "    <tr>\n",
       "      <th>50%</th>\n",
       "      <td>322132.500000</td>\n",
       "      <td>5.610990e+05</td>\n",
       "      <td>23.0</td>\n",
       "      <td>1.0</td>\n",
       "      <td>17.000000</td>\n",
       "      <td>63058.000000</td>\n",
       "      <td>20067.500000</td>\n",
       "    </tr>\n",
       "    <tr>\n",
       "      <th>75%</th>\n",
       "      <td>414469.250000</td>\n",
       "      <td>2.049189e+06</td>\n",
       "      <td>23.0</td>\n",
       "      <td>1.0</td>\n",
       "      <td>19.000000</td>\n",
       "      <td>98582.750000</td>\n",
       "      <td>30101.250000</td>\n",
       "    </tr>\n",
       "    <tr>\n",
       "      <th>max</th>\n",
       "      <td>438053.000000</td>\n",
       "      <td>2.072578e+06</td>\n",
       "      <td>23.0</td>\n",
       "      <td>1.0</td>\n",
       "      <td>20.000000</td>\n",
       "      <td>823828.000000</td>\n",
       "      <td>40135.000000</td>\n",
       "    </tr>\n",
       "  </tbody>\n",
       "</table>\n",
       "</div>"
      ],
      "text/plain": [
       "                  ID  CommitteeSessionID  GroupTypeID  ApplicationID  \\\n",
       "count   40136.000000        4.013600e+04      40136.0        40136.0   \n",
       "mean   291641.471024        1.099156e+06         23.0            1.0   \n",
       "std    120316.915844        8.529294e+05          0.0            0.0   \n",
       "min     71333.000000        6.452000e+04         23.0            1.0   \n",
       "25%    142276.750000        3.284618e+05         23.0            1.0   \n",
       "50%    322132.500000        5.610990e+05         23.0            1.0   \n",
       "75%    414469.250000        2.049189e+06         23.0            1.0   \n",
       "max    438053.000000        2.072578e+06         23.0            1.0   \n",
       "\n",
       "         KnessetNum       filesize             i  \n",
       "count  40136.000000   40136.000000  40136.000000  \n",
       "mean      16.420171   68106.410978  20067.500000  \n",
       "std        2.936028   57627.943049  11586.409539  \n",
       "min       11.000000       0.000000      0.000000  \n",
       "25%       14.000000   23104.750000  10033.750000  \n",
       "50%       17.000000   63058.000000  20067.500000  \n",
       "75%       19.000000   98582.750000  30101.250000  \n",
       "max       20.000000  823828.000000  40135.000000  "
      ]
     },
     "execution_count": 7,
     "metadata": {},
     "output_type": "execute_result"
    }
   ],
   "source": [
    "meta.describe()"
   ]
  },
  {
   "cell_type": "code",
   "execution_count": 8,
   "metadata": {},
   "outputs": [
    {
     "data": {
      "text/html": [
       "<div>\n",
       "<style>\n",
       "    .dataframe thead tr:only-child th {\n",
       "        text-align: right;\n",
       "    }\n",
       "\n",
       "    .dataframe thead th {\n",
       "        text-align: left;\n",
       "    }\n",
       "\n",
       "    .dataframe tbody tr th {\n",
       "        vertical-align: top;\n",
       "    }\n",
       "</style>\n",
       "<table border=\"1\" class=\"dataframe\">\n",
       "  <thead>\n",
       "    <tr style=\"text-align: right;\">\n",
       "      <th></th>\n",
       "      <th>ID</th>\n",
       "      <th>CommitteeSessionID</th>\n",
       "      <th>GroupTypeID</th>\n",
       "      <th>GroupTypeDesc</th>\n",
       "      <th>ApplicationID</th>\n",
       "      <th>ApplicationDesc</th>\n",
       "      <th>FilePath</th>\n",
       "      <th>LastUpdatedDate</th>\n",
       "      <th>KnessetNum</th>\n",
       "      <th>protocol_extension</th>\n",
       "      <th>parsed_filename</th>\n",
       "      <th>filesize</th>\n",
       "      <th>crc32c</th>\n",
       "      <th>error</th>\n",
       "      <th>i</th>\n",
       "    </tr>\n",
       "  </thead>\n",
       "  <tbody>\n",
       "    <tr>\n",
       "      <th>0</th>\n",
       "      <td>71333</td>\n",
       "      <td>65782</td>\n",
       "      <td>23</td>\n",
       "      <td>פרוטוקול ועדה</td>\n",
       "      <td>1</td>\n",
       "      <td>DOC</td>\n",
       "      <td>http://fs.knesset.gov.il//16/Committees/16_ptv...</td>\n",
       "      <td>2010-06-02 20:32:33</td>\n",
       "      <td>16</td>\n",
       "      <td>.doc</td>\n",
       "      <td>files/6/5/65782.csv</td>\n",
       "      <td>82050</td>\n",
       "      <td>LLmkqg==</td>\n",
       "      <td>NaN</td>\n",
       "      <td>0</td>\n",
       "    </tr>\n",
       "    <tr>\n",
       "      <th>1</th>\n",
       "      <td>71335</td>\n",
       "      <td>66045</td>\n",
       "      <td>23</td>\n",
       "      <td>פרוטוקול ועדה</td>\n",
       "      <td>1</td>\n",
       "      <td>DOC</td>\n",
       "      <td>http://fs.knesset.gov.il//16/Committees/16_ptv...</td>\n",
       "      <td>2010-06-02 20:32:33</td>\n",
       "      <td>16</td>\n",
       "      <td>.doc</td>\n",
       "      <td>files/6/6/66045.csv</td>\n",
       "      <td>99662</td>\n",
       "      <td>wwtRjQ==</td>\n",
       "      <td>NaN</td>\n",
       "      <td>1</td>\n",
       "    </tr>\n",
       "    <tr>\n",
       "      <th>2</th>\n",
       "      <td>71336</td>\n",
       "      <td>66046</td>\n",
       "      <td>23</td>\n",
       "      <td>פרוטוקול ועדה</td>\n",
       "      <td>1</td>\n",
       "      <td>DOC</td>\n",
       "      <td>http://fs.knesset.gov.il//16/Committees/16_ptv...</td>\n",
       "      <td>2010-06-02 20:32:34</td>\n",
       "      <td>16</td>\n",
       "      <td>.doc</td>\n",
       "      <td>files/6/6/66046.csv</td>\n",
       "      <td>7113</td>\n",
       "      <td>ti5ZGA==</td>\n",
       "      <td>NaN</td>\n",
       "      <td>2</td>\n",
       "    </tr>\n",
       "    <tr>\n",
       "      <th>3</th>\n",
       "      <td>71337</td>\n",
       "      <td>66050</td>\n",
       "      <td>23</td>\n",
       "      <td>פרוטוקול ועדה</td>\n",
       "      <td>1</td>\n",
       "      <td>DOC</td>\n",
       "      <td>http://fs.knesset.gov.il//16/Committees/16_ptv...</td>\n",
       "      <td>2010-06-02 20:32:34</td>\n",
       "      <td>16</td>\n",
       "      <td>.doc</td>\n",
       "      <td>files/6/6/66050.csv</td>\n",
       "      <td>35967</td>\n",
       "      <td>Wyoukw==</td>\n",
       "      <td>NaN</td>\n",
       "      <td>3</td>\n",
       "    </tr>\n",
       "    <tr>\n",
       "      <th>4</th>\n",
       "      <td>71340</td>\n",
       "      <td>66166</td>\n",
       "      <td>23</td>\n",
       "      <td>פרוטוקול ועדה</td>\n",
       "      <td>1</td>\n",
       "      <td>DOC</td>\n",
       "      <td>http://fs.knesset.gov.il//16/Committees/16_ptv...</td>\n",
       "      <td>2010-06-02 20:32:34</td>\n",
       "      <td>16</td>\n",
       "      <td>.doc</td>\n",
       "      <td>files/6/6/66166.csv</td>\n",
       "      <td>57224</td>\n",
       "      <td>K+cm8w==</td>\n",
       "      <td>NaN</td>\n",
       "      <td>4</td>\n",
       "    </tr>\n",
       "  </tbody>\n",
       "</table>\n",
       "</div>"
      ],
      "text/plain": [
       "      ID  CommitteeSessionID  GroupTypeID  GroupTypeDesc  ApplicationID  \\\n",
       "0  71333               65782           23  פרוטוקול ועדה              1   \n",
       "1  71335               66045           23  פרוטוקול ועדה              1   \n",
       "2  71336               66046           23  פרוטוקול ועדה              1   \n",
       "3  71337               66050           23  פרוטוקול ועדה              1   \n",
       "4  71340               66166           23  פרוטוקול ועדה              1   \n",
       "\n",
       "  ApplicationDesc                                           FilePath  \\\n",
       "0             DOC  http://fs.knesset.gov.il//16/Committees/16_ptv...   \n",
       "1             DOC  http://fs.knesset.gov.il//16/Committees/16_ptv...   \n",
       "2             DOC  http://fs.knesset.gov.il//16/Committees/16_ptv...   \n",
       "3             DOC  http://fs.knesset.gov.il//16/Committees/16_ptv...   \n",
       "4             DOC  http://fs.knesset.gov.il//16/Committees/16_ptv...   \n",
       "\n",
       "       LastUpdatedDate  KnessetNum protocol_extension      parsed_filename  \\\n",
       "0  2010-06-02 20:32:33          16               .doc  files/6/5/65782.csv   \n",
       "1  2010-06-02 20:32:33          16               .doc  files/6/6/66045.csv   \n",
       "2  2010-06-02 20:32:34          16               .doc  files/6/6/66046.csv   \n",
       "3  2010-06-02 20:32:34          16               .doc  files/6/6/66050.csv   \n",
       "4  2010-06-02 20:32:34          16               .doc  files/6/6/66166.csv   \n",
       "\n",
       "   filesize    crc32c error  i  \n",
       "0     82050  LLmkqg==   NaN  0  \n",
       "1     99662  wwtRjQ==   NaN  1  \n",
       "2      7113  ti5ZGA==   NaN  2  \n",
       "3     35967  Wyoukw==   NaN  3  \n",
       "4     57224  K+cm8w==   NaN  4  "
      ]
     },
     "execution_count": 8,
     "metadata": {},
     "output_type": "execute_result"
    }
   ],
   "source": [
    "meta.head()"
   ]
  },
  {
   "cell_type": "code",
   "execution_count": 9,
   "metadata": {
    "scrolled": true
   },
   "outputs": [
    {
     "data": {
      "text/html": [
       "<div>\n",
       "<style>\n",
       "    .dataframe thead tr:only-child th {\n",
       "        text-align: right;\n",
       "    }\n",
       "\n",
       "    .dataframe thead th {\n",
       "        text-align: left;\n",
       "    }\n",
       "\n",
       "    .dataframe tbody tr th {\n",
       "        vertical-align: top;\n",
       "    }\n",
       "</style>\n",
       "<table border=\"1\" class=\"dataframe\">\n",
       "  <thead>\n",
       "    <tr style=\"text-align: right;\">\n",
       "      <th></th>\n",
       "      <th>ID</th>\n",
       "      <th>CommitteeSessionID</th>\n",
       "      <th>GroupTypeID</th>\n",
       "      <th>GroupTypeDesc</th>\n",
       "      <th>ApplicationID</th>\n",
       "      <th>ApplicationDesc</th>\n",
       "      <th>FilePath</th>\n",
       "      <th>LastUpdatedDate</th>\n",
       "      <th>KnessetNum</th>\n",
       "      <th>protocol_extension</th>\n",
       "      <th>parsed_filename</th>\n",
       "      <th>filesize</th>\n",
       "      <th>crc32c</th>\n",
       "      <th>error</th>\n",
       "      <th>i</th>\n",
       "    </tr>\n",
       "  </thead>\n",
       "  <tbody>\n",
       "    <tr>\n",
       "      <th>40131</th>\n",
       "      <td>437950</td>\n",
       "      <td>2070060</td>\n",
       "      <td>23</td>\n",
       "      <td>פרוטוקול ועדה</td>\n",
       "      <td>1</td>\n",
       "      <td>DOC</td>\n",
       "      <td>http://fs.knesset.gov.il//20/Committees/20_ptv...</td>\n",
       "      <td>2018-07-02 10:30:20</td>\n",
       "      <td>20</td>\n",
       "      <td>NaN</td>\n",
       "      <td>NaN</td>\n",
       "      <td>0</td>\n",
       "      <td>NaN</td>\n",
       "      <td>parse_protocol returned None</td>\n",
       "      <td>40131</td>\n",
       "    </tr>\n",
       "    <tr>\n",
       "      <th>40132</th>\n",
       "      <td>437951</td>\n",
       "      <td>2070643</td>\n",
       "      <td>23</td>\n",
       "      <td>פרוטוקול ועדה</td>\n",
       "      <td>1</td>\n",
       "      <td>DOC</td>\n",
       "      <td>http://fs.knesset.gov.il//20/Committees/20_ptv...</td>\n",
       "      <td>2018-07-02 10:30:30</td>\n",
       "      <td>20</td>\n",
       "      <td>NaN</td>\n",
       "      <td>NaN</td>\n",
       "      <td>0</td>\n",
       "      <td>NaN</td>\n",
       "      <td>parse_protocol returned None</td>\n",
       "      <td>40132</td>\n",
       "    </tr>\n",
       "    <tr>\n",
       "      <th>40133</th>\n",
       "      <td>437952</td>\n",
       "      <td>2070736</td>\n",
       "      <td>23</td>\n",
       "      <td>פרוטוקול ועדה</td>\n",
       "      <td>1</td>\n",
       "      <td>DOC</td>\n",
       "      <td>http://fs.knesset.gov.il//20/Committees/20_ptv...</td>\n",
       "      <td>2018-07-02 10:30:42</td>\n",
       "      <td>20</td>\n",
       "      <td>NaN</td>\n",
       "      <td>NaN</td>\n",
       "      <td>0</td>\n",
       "      <td>NaN</td>\n",
       "      <td>parse_protocol returned None</td>\n",
       "      <td>40133</td>\n",
       "    </tr>\n",
       "    <tr>\n",
       "      <th>40134</th>\n",
       "      <td>437953</td>\n",
       "      <td>2070380</td>\n",
       "      <td>23</td>\n",
       "      <td>פרוטוקול ועדה</td>\n",
       "      <td>1</td>\n",
       "      <td>DOC</td>\n",
       "      <td>http://fs.knesset.gov.il//20/Committees/20_ptv...</td>\n",
       "      <td>2018-07-02 10:30:52</td>\n",
       "      <td>20</td>\n",
       "      <td>NaN</td>\n",
       "      <td>NaN</td>\n",
       "      <td>0</td>\n",
       "      <td>NaN</td>\n",
       "      <td>parse_protocol returned None</td>\n",
       "      <td>40134</td>\n",
       "    </tr>\n",
       "    <tr>\n",
       "      <th>40135</th>\n",
       "      <td>438053</td>\n",
       "      <td>2066333</td>\n",
       "      <td>23</td>\n",
       "      <td>פרוטוקול ועדה</td>\n",
       "      <td>1</td>\n",
       "      <td>DOC</td>\n",
       "      <td>http://fs.knesset.gov.il//20/Committees/20_ptv...</td>\n",
       "      <td>2018-07-02 18:00:32</td>\n",
       "      <td>20</td>\n",
       "      <td>NaN</td>\n",
       "      <td>NaN</td>\n",
       "      <td>0</td>\n",
       "      <td>NaN</td>\n",
       "      <td>parse_protocol returned None</td>\n",
       "      <td>40135</td>\n",
       "    </tr>\n",
       "  </tbody>\n",
       "</table>\n",
       "</div>"
      ],
      "text/plain": [
       "           ID  CommitteeSessionID  GroupTypeID  GroupTypeDesc  ApplicationID  \\\n",
       "40131  437950             2070060           23  פרוטוקול ועדה              1   \n",
       "40132  437951             2070643           23  פרוטוקול ועדה              1   \n",
       "40133  437952             2070736           23  פרוטוקול ועדה              1   \n",
       "40134  437953             2070380           23  פרוטוקול ועדה              1   \n",
       "40135  438053             2066333           23  פרוטוקול ועדה              1   \n",
       "\n",
       "      ApplicationDesc                                           FilePath  \\\n",
       "40131             DOC  http://fs.knesset.gov.il//20/Committees/20_ptv...   \n",
       "40132             DOC  http://fs.knesset.gov.il//20/Committees/20_ptv...   \n",
       "40133             DOC  http://fs.knesset.gov.il//20/Committees/20_ptv...   \n",
       "40134             DOC  http://fs.knesset.gov.il//20/Committees/20_ptv...   \n",
       "40135             DOC  http://fs.knesset.gov.il//20/Committees/20_ptv...   \n",
       "\n",
       "           LastUpdatedDate  KnessetNum protocol_extension parsed_filename  \\\n",
       "40131  2018-07-02 10:30:20          20                NaN             NaN   \n",
       "40132  2018-07-02 10:30:30          20                NaN             NaN   \n",
       "40133  2018-07-02 10:30:42          20                NaN             NaN   \n",
       "40134  2018-07-02 10:30:52          20                NaN             NaN   \n",
       "40135  2018-07-02 18:00:32          20                NaN             NaN   \n",
       "\n",
       "       filesize crc32c                         error      i  \n",
       "40131         0    NaN  parse_protocol returned None  40131  \n",
       "40132         0    NaN  parse_protocol returned None  40132  \n",
       "40133         0    NaN  parse_protocol returned None  40133  \n",
       "40134         0    NaN  parse_protocol returned None  40134  \n",
       "40135         0    NaN  parse_protocol returned None  40135  "
      ]
     },
     "execution_count": 9,
     "metadata": {},
     "output_type": "execute_result"
    }
   ],
   "source": [
    "meta.tail()"
   ]
  },
  {
   "cell_type": "markdown",
   "metadata": {},
   "source": [
    "# Get data"
   ]
  },
  {
   "cell_type": "markdown",
   "metadata": {},
   "source": [
    "Reading the csv from the url requires google account credentials, which I didn't manage to gain programmatically.\n",
    "\n",
    "As a temporary patch, I manually downloaded few protocols and I load them instead."
   ]
  },
  {
   "cell_type": "code",
   "execution_count": 10,
   "metadata": {
    "collapsed": true,
    "scrolled": true
   },
   "outputs": [],
   "source": [
    "# BASE_URL = r'https://storage.cloud.google.com/knesset-data-pipelines/data/committees/meeting_protocols_parts/'\n",
    "\n",
    "# df = pd.DataFrame(columns=('ID','header','body'))\n",
    "# for sid,f in tqdm_notebook(zip(meta['ID'],meta['parsed_filename'])):\n",
    "#     if not np.isnan(f):\n",
    "#         # TODO credentials missing => url returns login page rather than csv; HTTPBasicAuth('user','pass') didn't work either.\n",
    "#         tmp = pd.read_csv(BASE_URL+f)\n",
    "#         tmp.loc[:,'CommitteeSessionID'] = sid\n",
    "#         df = pd.concat((df,tmp))\n",
    "        \n",
    "# print(df.shape)\n",
    "# print(df.head())\n",
    "# print(df.tail())"
   ]
  },
  {
   "cell_type": "code",
   "execution_count": 13,
   "metadata": {},
   "outputs": [
    {
     "data": {
      "application/vnd.jupyter.widget-view+json": {
       "model_id": "a3c8b04211fb4309ac62f9eaa71e8ce5",
       "version_major": 2,
       "version_minor": 0
      },
      "text/plain": [
       "A Jupyter Widget"
      ]
     },
     "metadata": {},
     "output_type": "display_data"
    },
    {
     "name": "stderr",
     "output_type": "stream",
     "text": [
      "C:\\Users\\idogr\\Anaconda3\\lib\\site-packages\\ipykernel_launcher.py:10: UserWarning: File missing in metadata:\tdata_committees_meeting_protocols_parts_files_6_7_67040.csv.\n",
      "  # Remove the CWD from sys.path while we load stuff.\n"
     ]
    },
    {
     "name": "stdout",
     "output_type": "stream",
     "text": [
      "\n",
      "(728, 3)\n",
      "      ID                                               body             header\n",
      "0  71333  p_tamars\\n\\n2006-01-11Liraz\\n\\n\\n\\nהכנסת השש-ע...                   \n",
      "1  71333  א. קביעת מסגרת דיון להצעות להביע אי-אמון בממשל...           סדר היום\n",
      "2  71333  בוקר טוב. אני מתכבד לפתוח את ישיבה מס' 74 של ו...  היו\"ר רוני בר-און\n",
      "3  71333  אני מציעה ללכת על ההסדר הקבוע לדיון משולב, כמו...         זהבה גלאון\n",
      "4  71333  מה שנהגנו לעשות עד כה - המציעים, אחר-כך 20 דקו...  היו\"ר רוני בר-און\n",
      "       ID                                               body        header\n",
      "2  131344                                                      חברי הוועדה\n",
      "3  131344                                                       חברי הכנסת\n",
      "4  131344                                                          מוזמנים\n",
      "5  131344                                                     יועצת משפטית\n",
      "6  131344  סדר היום : פריט ועדה צווים, צו פעוטות בסיכון (...  מנהלת הוועדה\n"
     ]
    }
   ],
   "source": [
    "# temporal patch: get from local files\n",
    "RAW_PROTOCOLS = DATA/'Protocols'\n",
    "mask = r'data_committees_meeting_protocols_parts_files_'\n",
    "\n",
    "df = pd.DataFrame(columns=('ID','header','body'))\n",
    "for f in tqdm_notebook(os.listdir(RAW_PROTOCOLS)):\n",
    "    if f.startswith(mask):\n",
    "        i = np.where(meta.parsed_filename==f[len(mask)-6:].replace('_','/'))[0]\n",
    "        if len(i)<1:\n",
    "            warn(f'File missing in metadata:\\t{f:s}.')\n",
    "            continue\n",
    "        elif len(i)>1:\n",
    "            warn(f'File {f:s} matches {len(i):d} entries in metadata.')\n",
    "        i = i[0]\n",
    "        tmp = pd.read_csv(RAW_PROTOCOLS/f)\n",
    "        tmp.loc[:,'ID'] = meta.loc[i,'ID']\n",
    "        df = pd.concat((df,tmp))\n",
    "        \n",
    "df.fillna('', inplace=True)\n",
    "        \n",
    "print(df.shape)\n",
    "print(df.head())\n",
    "print(df.tail())"
   ]
  },
  {
   "cell_type": "code",
   "execution_count": 14,
   "metadata": {
    "collapsed": true
   },
   "outputs": [],
   "source": [
    "df.to_csv(path_data)"
   ]
  },
  {
   "cell_type": "markdown",
   "metadata": {},
   "source": [
    "# Basic EDA"
   ]
  },
  {
   "cell_type": "code",
   "execution_count": 15,
   "metadata": {},
   "outputs": [],
   "source": [
    "def show_freqs(tokens, vocabulary=None, n=15, logscale=True, token_lab='Token'):\n",
    "    _, axs = plt.subplots(3,1, figsize=(12,12))\n",
    "    \n",
    "    if vocabulary:\n",
    "        vocabulary = set(vocabulary)\n",
    "        tokens = [token for token in  tokens if token in vocabulary]\n",
    "    count = Counter(tokens)\n",
    "    count = OrderedDict(sorted(count.items(), key=lambda kv: kv[1]))\n",
    "    vals = list(count.values())\n",
    "    keys = list(count.keys())\n",
    "    bidi_keys = [bidi.get_display(token) for token in keys]\n",
    "    \n",
    "    # quantile plot\n",
    "    ax = axs[0]\n",
    "    ax.axhline(np.sum(vals)/len(vals), linestyle=':', color='blue', label='Average')\n",
    "    ax.plot(list(range(101)), [vals[int(q/100*(len(vals)-1))] for q in range(101)], 'k.-')\n",
    "    ax.set_xlabel('Quantile [%]')\n",
    "    ax.set_ylabel('Number of occurences')\n",
    "    ax.set_xlim((0,100))\n",
    "    ax.set_title(f'Total: {len(tokens):d}, Unique: {len(keys):d}')\n",
    "    if logscale:\n",
    "        ax.set_yscale('log')\n",
    "    ax.grid()\n",
    "    ax.legend()\n",
    "    \n",
    "    # top tokens\n",
    "    ax = axs[1]\n",
    "    ax.bar(bidi_keys[-1:-n-1:-1], vals[-1:-n-1:-1])\n",
    "    ax.tick_params(axis='x', rotation=45)\n",
    "    ax.set_xlabel(token_lab)\n",
    "    ax.set_ylabel('Occurences')\n",
    "    ax.set_title('Top')\n",
    "    if logscale:\n",
    "        ax.set_yscale('log')\n",
    "    ax.grid()\n",
    "    for label in ax.xaxis.get_ticklabels():\n",
    "        label.set_ha('right')\n",
    "    \n",
    "    # tail tokens\n",
    "    ax = axs[2]\n",
    "    ax.bar(list(reversed(bidi_keys[:n])), list(reversed(vals[:n])))\n",
    "    ax.tick_params(axis='x', rotation=45)\n",
    "    for label in ax.xaxis.get_ticklabels():\n",
    "        label.set_ha('right')\n",
    "    ax.set_xlabel(token_lab)\n",
    "    ax.set_ylabel('Occurences')\n",
    "    ax.set_title('Tail')\n",
    "    if logscale:\n",
    "        ax.set_yscale('log')\n",
    "    ax.grid()\n",
    "    \n",
    "    plt.tight_layout()\n",
    "    \n",
    "    return (list(reversed(keys)), list(reversed(vals)))"
   ]
  },
  {
   "cell_type": "code",
   "execution_count": 16,
   "metadata": {},
   "outputs": [
    {
     "data": {
      "image/png": "[encoded data removed]",
      "text/plain": [
       "<Figure size 864x864 with 3 Axes>"
      ]
     },
     "metadata": {},
     "output_type": "display_data"
    }
   ],
   "source": [
    "# show longest committees\n",
    "null = show_freqs(np.array(df.ID,dtype=str), token_lab='Committee ID')"
   ]
  },
  {
   "cell_type": "code",
   "execution_count": 17,
   "metadata": {},
   "outputs": [
    {
     "name": "stdout",
     "output_type": "stream",
     "text": [
      "       ID                                               body        header\n",
      "0  131344  knesset\\n\\n2004-11-15Liraz\\n\\n\\n\\nהכנסת 16\\n\\n...              \n",
      "1  131344                                                            נכחו:\n",
      "2  131344                                                      חברי הוועדה\n",
      "3  131344                                                       חברי הכנסת\n",
      "4  131344                                                          מוזמנים\n",
      "5  131344                                                     יועצת משפטית\n",
      "6  131344  סדר היום : פריט ועדה צווים, צו פעוטות בסיכון (...  מנהלת הוועדה\n",
      "knesset\n",
      "\n",
      "2004-11-15Liraz\n",
      "\n",
      "\n",
      "\n",
      "הכנסת 16\n",
      "\n",
      "מושב 1\n",
      "\n",
      "פרוטוקול מס' 250\n",
      "\n",
      "מישיבת ועדת העבודה, הרווחה והבריאות\n",
      "\n",
      "יום שני, כ\"ו תשרי, תשס\"ה, 11/10/04, שעה 11:00\n",
      "סדר היום : פריט ועדה צווים, צו פעוטות בסיכון (הזכות למעון יום) (החלת הזכאות למעון יום),התשס\"ד-2004 של ח''כ\n"
     ]
    }
   ],
   "source": [
    "# print suspiciously short protocol\n",
    "print(df.loc[df.ID==131344])\n",
    "print(df.loc[df.ID==131344].body.values[0])\n",
    "print(df.loc[df.ID==131344].body.values[-1])"
   ]
  },
  {
   "cell_type": "code",
   "execution_count": 18,
   "metadata": {},
   "outputs": [
    {
     "name": "stderr",
     "output_type": "stream",
     "text": [
      "C:\\Users\\idogr\\Anaconda3\\lib\\site-packages\\matplotlib\\axes\\_base.py:3443: UserWarning: Attempting to set identical bottom==top results\n",
      "in singular transformations; automatically expanding.\n",
      "bottom=1.0, top=1.0\n",
      "  'bottom=%s, top=%s') % (bottom, top))\n"
     ]
    },
    {
     "data": {
      "image/png": "[encoded data removed]",
      "text/plain": [
       "<Figure size 864x864 with 3 Axes>"
      ]
     },
     "metadata": {},
     "output_type": "display_data"
    }
   ],
   "source": [
    "# show top speakers\n",
    "speakers, freqs = show_freqs(df.header, token_lab='Speaker')"
   ]
  },
  {
   "cell_type": "code",
   "execution_count": 19,
   "metadata": {},
   "outputs": [
    {
     "name": "stdout",
     "output_type": "stream",
     "text": [
      "['היו\"ר רוני בר-און', 'גדעון סער', 'אברהם בורג', 'דליה איציק', 'חיים אורון', 'אנה שניידר', 'רשף חן', 'דני יתום', 'מתן וילנאי', 'אופיר פינס-פז', 'אחמד טיבי', 'אורי אריאל', 'דוד טל', 'יולי-יואל אדלשטיין', 'קריאות', 'אבשלום וילן', 'מאיר פרוש', 'אברהם בייגה שוחט', 'לאה אחדות', 'יולי אדלשטיין', 'קריאה', 'יושב ראש ועדת הכספים אברהם הירשזון', 'אליעזר כהן', 'אהוד יתום', 'ענבל גבריאלי', 'אהוד רצאבי', 'אריאלה קלעי', '', 'אורי יוגב', 'יוסי גורדון', 'מוזמנים', 'מיכאל גורולובסקי', 'זהבה גלאון', 'מנהלת הוועדה', 'יועצת משפטית', 'חברי הכנסת', 'חברי הוועדה', 'נכחו:', 'גאולה רזיאל', 'יצחק כהן', 'מיכאל גורלובסקי', 'אתי בן-יוסף', 'אברהם (בייגה) שוחט', 'מזכיר הכנסת, אריה האן', 'נכחו', 'רז נזרי', 'יחיאל חזן', 'סדר היום']\n"
     ]
    }
   ],
   "source": [
    "print(speakers)"
   ]
  }
 ],
 "metadata": {
  "kernelspec": {
   "display_name": "Python 3",
   "language": "python",
   "name": "python3"
  },
  "language_info": {
   "codemirror_mode": {
    "name": "ipython",
    "version": 3
   },
   "file_extension": ".py",
   "mimetype": "text/x-python",
   "name": "python",
   "nbconvert_exporter": "python",
   "pygments_lexer": "ipython3",
   "version": "3.6.2"
  }
 },
 "nbformat": 4,
 "nbformat_minor": 2
}
